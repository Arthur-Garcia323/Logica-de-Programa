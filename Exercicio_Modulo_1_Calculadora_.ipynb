{
  "nbformat": 4,
  "nbformat_minor": 0,
  "metadata": {
    "colab": {
      "provenance": []
    },
    "kernelspec": {
      "name": "python3",
      "display_name": "Python 3"
    },
    "language_info": {
      "name": "python"
    }
  },
  "cells": [
    {
      "cell_type": "markdown",
      "source": [
        "#**Calculadora**#"
      ],
      "metadata": {
        "id": "WLTbcuDHejrs"
      }
    },
    {
      "cell_type": "code",
      "execution_count": null,
      "metadata": {
        "id": "CSZueWezeaR7"
      },
      "outputs": [],
      "source": [
        "# Utilize o comando 'input' para receber ao menos 2 números de entrada do usuário;\n",
        "# Converta os valores recebidos pelo usuário para número inteiro (int) ou ponto flutuante (float);\n",
        "\n",
        "# Implemente ao menos 4 operações matemáticas em seu código;\n",
        "\n",
        "# Adicione um laço de repetição ou uma condicional. Por exemplo: você pode permitir que o usuário escolha qual operação realizar ou criar um loop que permita ao usuário realizar várias operações consecutivas;\n",
        "\n",
        "# Utilize o comando 'print' para exibir o resultado da operação matemática.\n"
      ]
    },
    {
      "cell_type": "code",
      "source": [
        "escolha_operação=input('Escolha uma operação? (soma/subtração/multiplicação/divisão): ')\n",
        "\n",
        "num1=float(input('Digite um numero:'))\n",
        "num2=float(input('Digite um numero:'))\n",
        "\n",
        "if escolha_operação == 'soma':\n",
        "    resultado = num1 + num2\n",
        "    print('O resultado da soma é:', resultado)\n",
        "\n",
        "elif escolha_operação == 'subtração':\n",
        "    resultado = num1 - num2\n",
        "    print('O resultado da subtração é:', resultado)\n",
        "\n",
        "elif escolha_operação == 'multiplicação':\n",
        "    resultado = num1 * num2\n",
        "    print('O resultado da multiplicação é:', resultado)\n",
        "\n",
        "elif escolha_operação == 'divisão':\n",
        "   if num2 != 0:\n",
        "      resultado = num1 / num2\n",
        "      print('O resultado da divisão é:', resultado)\n",
        "   else:\n",
        "      print('Erro: divisão por zero')\n",
        "\n",
        "else:\n",
        "  print('Operação invalida.')\n"
      ],
      "metadata": {
        "colab": {
          "base_uri": "https://localhost:8080/"
        },
        "id": "AonYPxZBenk4",
        "outputId": "819957cb-87bc-42e4-d97a-e45491a0abfc"
      },
      "execution_count": 24,
      "outputs": [
        {
          "output_type": "stream",
          "name": "stdout",
          "text": [
            "Escolha uma operação? (soma/subtração/multiplicação/divisão): soma\n",
            "Digite um numero:5\n",
            "Digite um numero:5\n",
            "O resultado da soma é: 10.0\n"
          ]
        }
      ]
    },
    {
      "cell_type": "code",
      "source": [
        "1"
      ],
      "metadata": {
        "id": "ULmLTokNuBVk"
      },
      "execution_count": null,
      "outputs": []
    }
  ]
}